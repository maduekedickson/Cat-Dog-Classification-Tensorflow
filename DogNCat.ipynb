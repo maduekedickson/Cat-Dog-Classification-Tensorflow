{
  "cells": [
    {
      "cell_type": "markdown",
      "metadata": {
        "id": "6cAq2luH1DUY"
      },
      "source": [
        "# Step 3: Import Libraries\n",
        "\n",
        "Import the required libraries:"
      ]
    },
    {
      "cell_type": "code",
      "execution_count": 3,
      "metadata": {
        "id": "ivCt_dq6z1JI"
      },
      "outputs": [],
      "source": [
        "import tensorflow as tf\n",
        "from tensorflow.keras.preprocessing import image_dataset_from_directory\n",
        "import matplotlib.pyplot as plt\n",
        "import numpy as np\n"
      ]
    },
    {
      "cell_type": "markdown",
      "metadata": {
        "id": "fDeCgncR1Yme"
      },
      "source": [
        "# Step 4: Load the Dataset\n",
        "\n",
        "You can use a smaller subset of the Cats vs. Dogs dataset from TensorFlow Datasets:"
      ]
    },
    {
      "cell_type": "code",
      "execution_count": 1,
      "metadata": {
        "colab": {
          "base_uri": "https://localhost:8080/"
        },
        "id": "b6dA0X-r1e2E",
        "outputId": "442997f7-1a27-4d94-e0bb-01a0e034ef7b"
      },
      "outputs": [
        {
          "name": "stdout",
          "output_type": "stream",
          "text": [
            "  % Total    % Received % Xferd  Average Speed   Time    Time     Time  Current\n",
            "                                 Dload  Upload   Total   Spent    Left  Speed\n",
            "100 65.4M  100 65.4M    0     0  15.1M      0  0:00:04  0:00:04 --:--:-- 15.1M\n"
          ]
        }
      ],
      "source": [
        "!curl -O https://storage.googleapis.com/mledu-datasets/cats_and_dogs_filtered.zip\n",
        "!unzip -q cats_and_dogs_filtered.zip\n"
      ]
    },
    {
      "cell_type": "markdown",
      "metadata": {
        "id": "Yw6Y8lqH1jH_"
      },
      "source": [
        "# Now, load the training and validation datasets:"
      ]
    },
    {
      "cell_type": "markdown",
      "metadata": {
        "id": "son0ppkj3UUe"
      },
      "source": [
        "# Additional Tip\n",
        "\n",
        "Make sure that the path 'cats_and_dogs_filtered/train' and 'cats_and_dogs_filtered/validation' is correct and that the dataset has been extracted properly. If the dataset isn't present in the expected directory, you'll need to adjust the path accordingly."
      ]
    },
    {
      "cell_type": "code",
      "execution_count": 4,
      "metadata": {
        "colab": {
          "base_uri": "https://localhost:8080/"
        },
        "id": "cFT4etJr1nGU",
        "outputId": "99f644dc-fd5c-4c91-c9a1-550e0a60bbf1"
      },
      "outputs": [
        {
          "name": "stdout",
          "output_type": "stream",
          "text": [
            "Found 2000 files belonging to 2 classes.\n",
            "Found 1000 files belonging to 2 classes.\n"
          ]
        }
      ],
      "source": [
        "train_ds = image_dataset_from_directory(\n",
        "    'cats_and_dogs_filtered/train',\n",
        "    image_size=(180, 180),\n",
        "    batch_size=32\n",
        ")\n",
        "\n",
        "validation_ds = image_dataset_from_directory(\n",
        "    'cats_and_dogs_filtered/validation',\n",
        "    image_size=(180, 180),\n",
        "    batch_size=32\n",
        ")\n"
      ]
    },
    {
      "cell_type": "markdown",
      "metadata": {
        "id": "R8TinkAy3bS1"
      },
      "source": [
        "# Step 5: Preprocess the Data\n",
        "\n",
        "Normalize the pixel values:"
      ]
    },
    {
      "cell_type": "code",
      "execution_count": 5,
      "metadata": {
        "id": "bsJqXwZF3gf1"
      },
      "outputs": [],
      "source": [
        "normalization_layer = tf.keras.layers.Rescaling(1./255)\n",
        "\n",
        "train_ds = train_ds.map(lambda x, y: (normalization_layer(x), y))\n",
        "validation_ds = validation_ds.map(lambda x, y: (normalization_layer(x), y))\n"
      ]
    },
    {
      "cell_type": "markdown",
      "metadata": {
        "id": "sDZiVpmN3oq1"
      },
      "source": [
        "#Step 6: Build the Model\n",
        "\n",
        "Create a simple CNN model:"
      ]
    },
    {
      "cell_type": "code",
      "execution_count": 6,
      "metadata": {
        "colab": {
          "base_uri": "https://localhost:8080/"
        },
        "id": "ypOS0Sjq3qiA",
        "outputId": "130ce26a-63b3-403e-a41a-da91c0af9365"
      },
      "outputs": [
        {
          "name": "stderr",
          "output_type": "stream",
          "text": [
            "/usr/local/lib/python3.10/dist-packages/keras/src/layers/convolutional/base_conv.py:107: UserWarning: Do not pass an `input_shape`/`input_dim` argument to a layer. When using Sequential models, prefer using an `Input(shape)` object as the first layer in the model instead.\n",
            "  super().__init__(activity_regularizer=activity_regularizer, **kwargs)\n"
          ]
        }
      ],
      "source": [
        "model = tf.keras.Sequential([\n",
        "    tf.keras.layers.Conv2D(32, (3, 3), activation='relu', input_shape=(180, 180, 3)),\n",
        "    tf.keras.layers.MaxPooling2D(),\n",
        "    tf.keras.layers.Conv2D(64, (3, 3), activation='relu'),\n",
        "    tf.keras.layers.MaxPooling2D(),\n",
        "    tf.keras.layers.Conv2D(128, (3, 3), activation='relu'),\n",
        "    tf.keras.layers.MaxPooling2D(),\n",
        "    tf.keras.layers.Flatten(),\n",
        "    tf.keras.layers.Dense(128, activation='relu'),\n",
        "    tf.keras.layers.Dense(1, activation='sigmoid')  # Binary classification\n",
        "])\n",
        "\n",
        "model.compile(optimizer='adam',\n",
        "              loss='binary_crossentropy',\n",
        "              metrics=['accuracy'])\n"
      ]
    },
    {
      "cell_type": "markdown",
      "metadata": {
        "id": "u-JtQjb13vJJ"
      },
      "source": [
        "# Step 7: Train the Model\n",
        "\n",
        "Train the model on the dataset:"
      ]
    },
    {
      "cell_type": "code",
      "execution_count": 7,
      "metadata": {
        "colab": {
          "base_uri": "https://localhost:8080/"
        },
        "id": "9_tTDBmw3yz4",
        "outputId": "e73dab0c-2427-4f1a-d617-366e686a6732"
      },
      "outputs": [
        {
          "name": "stdout",
          "output_type": "stream",
          "text": [
            "Epoch 1/10\n",
            "\u001b[1m63/63\u001b[0m \u001b[32m━━━━━━━━━━━━━━━━━━━━\u001b[0m\u001b[37m\u001b[0m \u001b[1m14s\u001b[0m 120ms/step - accuracy: 0.5207 - loss: 0.7796 - val_accuracy: 0.5000 - val_loss: 0.6934\n",
            "Epoch 2/10\n",
            "\u001b[1m63/63\u001b[0m \u001b[32m━━━━━━━━━━━━━━━━━━━━\u001b[0m\u001b[37m\u001b[0m \u001b[1m5s\u001b[0m 79ms/step - accuracy: 0.5463 - loss: 0.6877 - val_accuracy: 0.5820 - val_loss: 0.6841\n",
            "Epoch 3/10\n",
            "\u001b[1m63/63\u001b[0m \u001b[32m━━━━━━━━━━━━━━━━━━━━\u001b[0m\u001b[37m\u001b[0m \u001b[1m3s\u001b[0m 55ms/step - accuracy: 0.5868 - loss: 0.6731 - val_accuracy: 0.6390 - val_loss: 0.6697\n",
            "Epoch 4/10\n",
            "\u001b[1m63/63\u001b[0m \u001b[32m━━━━━━━━━━━━━━━━━━━━\u001b[0m\u001b[37m\u001b[0m \u001b[1m5s\u001b[0m 55ms/step - accuracy: 0.6777 - loss: 0.6174 - val_accuracy: 0.6700 - val_loss: 0.6354\n",
            "Epoch 5/10\n",
            "\u001b[1m63/63\u001b[0m \u001b[32m━━━━━━━━━━━━━━━━━━━━\u001b[0m\u001b[37m\u001b[0m \u001b[1m5s\u001b[0m 53ms/step - accuracy: 0.7435 - loss: 0.5332 - val_accuracy: 0.6750 - val_loss: 0.6773\n",
            "Epoch 6/10\n",
            "\u001b[1m63/63\u001b[0m \u001b[32m━━━━━━━━━━━━━━━━━━━━\u001b[0m\u001b[37m\u001b[0m \u001b[1m3s\u001b[0m 52ms/step - accuracy: 0.7957 - loss: 0.4321 - val_accuracy: 0.6210 - val_loss: 0.9191\n",
            "Epoch 7/10\n",
            "\u001b[1m63/63\u001b[0m \u001b[32m━━━━━━━━━━━━━━━━━━━━\u001b[0m\u001b[37m\u001b[0m \u001b[1m8s\u001b[0m 93ms/step - accuracy: 0.8330 - loss: 0.3559 - val_accuracy: 0.6840 - val_loss: 0.7814\n",
            "Epoch 8/10\n",
            "\u001b[1m63/63\u001b[0m \u001b[32m━━━━━━━━━━━━━━━━━━━━\u001b[0m\u001b[37m\u001b[0m \u001b[1m3s\u001b[0m 52ms/step - accuracy: 0.9074 - loss: 0.2259 - val_accuracy: 0.6930 - val_loss: 0.9615\n",
            "Epoch 9/10\n",
            "\u001b[1m63/63\u001b[0m \u001b[32m━━━━━━━━━━━━━━━━━━━━\u001b[0m\u001b[37m\u001b[0m \u001b[1m4s\u001b[0m 58ms/step - accuracy: 0.9374 - loss: 0.1477 - val_accuracy: 0.7050 - val_loss: 1.3128\n",
            "Epoch 10/10\n",
            "\u001b[1m63/63\u001b[0m \u001b[32m━━━━━━━━━━━━━━━━━━━━\u001b[0m\u001b[37m\u001b[0m \u001b[1m6s\u001b[0m 89ms/step - accuracy: 0.9704 - loss: 0.0706 - val_accuracy: 0.6990 - val_loss: 1.4644\n"
          ]
        }
      ],
      "source": [
        "history = model.fit(\n",
        "    train_ds,\n",
        "    validation_data=validation_ds,\n",
        "    epochs=10\n",
        ")\n"
      ]
    },
    {
      "cell_type": "markdown",
      "metadata": {
        "id": "v62sa9xl35SW"
      },
      "source": [
        "# Step 8: Evaluate the Model\n",
        "\n",
        "Check the model's performance:"
      ]
    },
    {
      "cell_type": "code",
      "execution_count": 8,
      "metadata": {
        "colab": {
          "base_uri": "https://localhost:8080/"
        },
        "id": "lwM4GCZq3614",
        "outputId": "d710c237-c075-4ecd-b782-3217dfd584f9"
      },
      "outputs": [
        {
          "name": "stdout",
          "output_type": "stream",
          "text": [
            "\u001b[1m32/32\u001b[0m \u001b[32m━━━━━━━━━━━━━━━━━━━━\u001b[0m\u001b[37m\u001b[0m \u001b[1m1s\u001b[0m 33ms/step - accuracy: 0.6898 - loss: 1.4757\n",
            "Validation accuracy: 69.90%\n"
          ]
        }
      ],
      "source": [
        "loss, accuracy = model.evaluate(validation_ds)\n",
        "print(f'Validation accuracy: {accuracy * 100:.2f}%')\n"
      ]
    },
    {
      "cell_type": "markdown",
      "metadata": {
        "id": "uqfLIiZo3_W_"
      },
      "source": [
        "# Step 9: Save the Model\n",
        "\n",
        "Save the trained model so you can use it in Streamlit:"
      ]
    },
    {
      "cell_type": "code",
      "execution_count": 9,
      "metadata": {
        "colab": {
          "base_uri": "https://localhost:8080/"
        },
        "id": "G0lczo1_4Euw",
        "outputId": "86029f3c-a53e-4c4d-ebc6-f0bafa8bc654"
      },
      "outputs": [
        {
          "name": "stderr",
          "output_type": "stream",
          "text": [
            "WARNING:absl:You are saving your model as an HDF5 file via `model.save()` or `keras.saving.save_model(model)`. This file format is considered legacy. We recommend using instead the native Keras format, e.g. `model.save('my_model.keras')` or `keras.saving.save_model(model, 'my_model.keras')`. \n"
          ]
        }
      ],
      "source": [
        "model.save('cats_vs_dogs_model.h5')\n"
      ]
    },
    {
      "cell_type": "code",
      "execution_count": 11,
      "metadata": {
        "id": "8MEsoDtx4eJY"
      },
      "outputs": [],
      "source": [
        "with open('app.py', 'w') as f:\n",
        "    f.write(\"\"\"\n",
        "import streamlit as st\n",
        "from tensorflow.keras.models import load_model\n",
        "from tensorflow.keras.preprocessing import image\n",
        "import numpy as np\n",
        "\n",
        "# Load the model\n",
        "model = load_model('cats_vs_dogs_model.h5')\n",
        "\n",
        "st.title('Cats vs. Dogs Classifier')\n",
        "\n",
        "# Upload an image\n",
        "uploaded_file = st.file_uploader('Choose an image...', type='jpg')\n",
        "\n",
        "if uploaded_file is not None:\n",
        "    img = image.load_img(uploaded_file, target_size=(180, 180))\n",
        "    img_array = image.img_to_array(img)\n",
        "    img_array = np.expand_dims(img_array, axis=0) / 255.0  # Normalize\n",
        "\n",
        "    # Predict\n",
        "    prediction = model.predict(img_array)\n",
        "    if prediction[0][0] > 0.5:\n",
        "        st.write('This is a Dog!')\n",
        "    else:\n",
        "        st.write('This is a Cat!')\n",
        "\"\"\")\n"
      ]
    },
    {
      "cell_type": "code",
      "execution_count": null,
      "metadata": {
        "id": "-KSPEi9u49QS"
      },
      "outputs": [],
      "source": []
    }
  ],
  "metadata": {
    "accelerator": "GPU",
    "colab": {
      "gpuType": "T4",
      "provenance": []
    },
    "kernelspec": {
      "display_name": "Python 3",
      "name": "python3"
    },
    "language_info": {
      "name": "python",
      "version": "3.12.3"
    }
  },
  "nbformat": 4,
  "nbformat_minor": 0
}
